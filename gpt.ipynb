{
 "cells": [
  {
   "cell_type": "code",
   "execution_count": 45,
   "metadata": {},
   "outputs": [],
   "source": [
    "import pandas as pd\n",
    "import numpy as np\n",
    "dataset = pd.read_csv('DataSets/gpt4.csv', delimiter=';')"
   ]
  },
  {
   "cell_type": "code",
   "execution_count": 46,
   "metadata": {},
   "outputs": [
    {
     "name": "stderr",
     "output_type": "stream",
     "text": [
      "[nltk_data] Downloading package stopwords to\n",
      "[nltk_data]     C:\\Users\\skinn\\AppData\\Roaming\\nltk_data...\n",
      "[nltk_data]   Package stopwords is already up-to-date!\n"
     ]
    }
   ],
   "source": [
    "import pymorphy3\n",
    "from razdel import tokenize\n",
    "import nltk\n",
    "from nltk.corpus import stopwords\n",
    "\n",
    "nltk.download(\"stopwords\")\n",
    "russian_stopwords = stopwords.words(\"russian\")\n",
    "\n",
    "dataset = dataset.drop_duplicates()\n",
    "dataset = dataset.dropna()\n",
    "dataset = dataset[dataset['Текст инцидента'] != '\\'Сообщение без текста']\n",
    "for msg in dataset['Текст инцидента']:\n",
    "    if len(msg.split(' ')) <= 2:    \n",
    "        dataset = dataset[dataset['Текст инцидента'] != msg]\n",
    "\n",
    "morph = pymorphy3.MorphAnalyzer()\n",
    "\n",
    "stopTags = ['PNCT', 'NUMB', 'UNKN', 'LATN', 'ROMN']\n",
    "\n",
    "def preprocess_text(text):\n",
    "    tokens = tokenize(text.lower())\n",
    "    tokens = [morph.parse(token.text)[0].normal_form for token in tokens \n",
    "              if morph.parse(token.text)[0].normal_form not in russian_stopwords and \n",
    "              not any(tag in morph.parse(token.text)[0].tag for tag in stopTags)]\n",
    "    text = \" \".join(tokens) \n",
    "    return text"
   ]
  },
  {
   "cell_type": "code",
   "execution_count": 47,
   "metadata": {},
   "outputs": [],
   "source": [
    "import torch\n",
    "from transformers import AutoTokenizer, AutoModel\n",
    "\n",
    "tokenizer = AutoTokenizer.from_pretrained(\"cointegrated/LaBSE-en-ru\")\n",
    "model = AutoModel.from_pretrained(\"cointegrated/LaBSE-en-ru\")\n",
    "\n",
    "list = []\n",
    "\n",
    "x = dataset['Текст инцидента']\n",
    "\n",
    "for s in x:\n",
    "    s = preprocess_text(s)\n",
    "    encoded_input = tokenizer(s, padding=True, truncation=True, max_length=256, return_tensors='pt')\n",
    "    with torch.no_grad():\n",
    "        model_output = model(**encoded_input)\n",
    "    emb = model_output.pooler_output\n",
    "    list.append((emb)[0].numpy())\n",
    "\n",
    "x_embeddings = np.asarray(list)\n",
    "\n",
    "#сохранить embeddings\n",
    "np.save(f'embeddings_gpt4', x_embeddings)"
   ]
  },
  {
   "cell_type": "code",
   "execution_count": 48,
   "metadata": {},
   "outputs": [],
   "source": [
    "import pandas as pd\n",
    "import numpy as np\n",
    "dataset = pd.read_csv('DataSets/gpt5.csv', delimiter=';')"
   ]
  },
  {
   "cell_type": "code",
   "execution_count": 49,
   "metadata": {},
   "outputs": [
    {
     "name": "stderr",
     "output_type": "stream",
     "text": [
      "[nltk_data] Downloading package stopwords to\n",
      "[nltk_data]     C:\\Users\\skinn\\AppData\\Roaming\\nltk_data...\n",
      "[nltk_data]   Package stopwords is already up-to-date!\n"
     ]
    }
   ],
   "source": [
    "import pymorphy3\n",
    "from razdel import tokenize\n",
    "import nltk\n",
    "from nltk.corpus import stopwords\n",
    "\n",
    "nltk.download(\"stopwords\")\n",
    "russian_stopwords = stopwords.words(\"russian\")\n",
    "\n",
    "dataset = dataset.drop_duplicates()\n",
    "dataset = dataset.dropna()\n",
    "dataset = dataset[dataset['Текст инцидента'] != '\\'Сообщение без текста']\n",
    "for msg in dataset['Текст инцидента']:\n",
    "    if len(msg.split(' ')) <= 2:    \n",
    "        dataset = dataset[dataset['Текст инцидента'] != msg]\n",
    "\n",
    "morph = pymorphy3.MorphAnalyzer()\n",
    "\n",
    "stopTags = ['PNCT', 'NUMB', 'UNKN', 'LATN', 'ROMN']\n",
    "\n",
    "def preprocess_text(text):\n",
    "    tokens = tokenize(text.lower())\n",
    "    tokens = [morph.parse(token.text)[0].normal_form for token in tokens \n",
    "              if morph.parse(token.text)[0].normal_form not in russian_stopwords and \n",
    "              not any(tag in morph.parse(token.text)[0].tag for tag in stopTags)]\n",
    "    text = \" \".join(tokens) \n",
    "    return text"
   ]
  },
  {
   "cell_type": "code",
   "execution_count": 50,
   "metadata": {},
   "outputs": [],
   "source": [
    "import torch\n",
    "from transformers import AutoTokenizer, AutoModel\n",
    "\n",
    "tokenizer = AutoTokenizer.from_pretrained(\"cointegrated/LaBSE-en-ru\")\n",
    "model = AutoModel.from_pretrained(\"cointegrated/LaBSE-en-ru\")\n",
    "\n",
    "list = []\n",
    "\n",
    "x = dataset['Текст инцидента']\n",
    "\n",
    "for s in x:\n",
    "    s = preprocess_text(s)\n",
    "    encoded_input = tokenizer(s, padding=True, truncation=True, max_length=256, return_tensors='pt')\n",
    "    with torch.no_grad():\n",
    "        model_output = model(**encoded_input)\n",
    "    emb = model_output.pooler_output\n",
    "    list.append((emb)[0].numpy())\n",
    "\n",
    "x_embeddings = np.asarray(list)\n",
    "\n",
    "#сохранить embeddings\n",
    "np.save(f'embeddings_gpt5', x_embeddings)"
   ]
  }
 ],
 "metadata": {
  "kernelspec": {
   "display_name": "Python 3",
   "language": "python",
   "name": "python3"
  },
  "language_info": {
   "codemirror_mode": {
    "name": "ipython",
    "version": 3
   },
   "file_extension": ".py",
   "mimetype": "text/x-python",
   "name": "python",
   "nbconvert_exporter": "python",
   "pygments_lexer": "ipython3",
   "version": "3.11.5"
  }
 },
 "nbformat": 4,
 "nbformat_minor": 2
}
