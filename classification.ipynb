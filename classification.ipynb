{
 "cells": [
  {
   "cell_type": "code",
   "execution_count": 93,
   "metadata": {},
   "outputs": [],
   "source": [
    "import pandas as pd\n",
    "#F1: 0.725 with lengths=64 count_data=23000\n",
    "#F1: 0.639 with lengths=256 сount_data=2000\n",
    "\n",
    "#F1_Y_GROUP:  0.604\n",
    "#F1_Y_THEME:  0.246\n",
    "dataset = pd.read_csv('DataSets/train.csv', delimiter=';')"
   ]
  },
  {
   "cell_type": "code",
   "execution_count": 94,
   "metadata": {},
   "outputs": [
    {
     "name": "stderr",
     "output_type": "stream",
     "text": [
      "[nltk_data] Downloading package stopwords to\n",
      "[nltk_data]     C:\\Users\\skinn\\AppData\\Roaming\\nltk_data...\n",
      "[nltk_data]   Package stopwords is already up-to-date!\n"
     ]
    }
   ],
   "source": [
    "import pymorphy3\n",
    "from razdel import tokenize\n",
    "import nltk\n",
    "from nltk.corpus import stopwords\n",
    "\n",
    "nltk.download(\"stopwords\")\n",
    "russian_stopwords = stopwords.words(\"russian\")\n",
    "\n",
    "dataset = dataset.drop_duplicates()\n",
    "dataset = dataset[dataset['Текст инцидента'] != '\\'Сообщение без текста']\n",
    "\n",
    "morph = pymorphy3.MorphAnalyzer()\n",
    "\n",
    "stopTags = ['PNCT', 'NUMB', 'UNKN', 'LATN', 'ROMN']\n",
    "\n",
    "def preprocess_text(text):\n",
    "    tokens = tokenize(text.lower())\n",
    "    tokens = [morph.parse(token.text)[0].normal_form for token in tokens \n",
    "              if morph.parse(token.text)[0].normal_form not in russian_stopwords and \n",
    "              not any(tag in morph.parse(token.text)[0].tag for tag in stopTags)]\n",
    "    text = \" \".join(tokens) \n",
    "    return text\n",
    "\n",
    "def get_themes_code():\n",
    "    themes = dataset['Тема'].unique()\n",
    "    dict = {themes[i]:i for i in range(0, len(themes))}\n",
    "    return dict\n",
    "\n",
    "themes_code = get_themes_code()\n",
    "\n",
    "def get_group_code():\n",
    "    themes = dataset['Группа тем'].unique()\n",
    "    dict = {themes[i]:i for i in range(0, len(themes))}\n",
    "    return dict\n",
    "\n",
    "group_code = get_group_code()"
   ]
  },
  {
   "cell_type": "code",
   "execution_count": 108,
   "metadata": {},
   "outputs": [],
   "source": [
    "import numpy as np\n",
    "import torch\n",
    "from transformers import AutoTokenizer, AutoModel\n",
    "\n",
    "data = dataset.iloc[:5000, :]\n",
    "\n",
    "x = data['Текст инцидента']\n",
    "y1 = data['Группа тем']\n",
    "y1 = np.array(y1.replace(group_code)).reshape(-1, 1)\n",
    "y2 = data['Тема']\n",
    "y2 = np.array(y2.replace(themes_code)).reshape(-1, 1)\n",
    "y = np.hstack((y1,y2))"
   ]
  },
  {
   "cell_type": "code",
   "execution_count": 109,
   "metadata": {},
   "outputs": [],
   "source": [
    "tokenizer = AutoTokenizer.from_pretrained(\"cointegrated/LaBSE-en-ru\")\n",
    "model = AutoModel.from_pretrained(\"cointegrated/LaBSE-en-ru\")\n",
    "\n",
    "list = []\n",
    "\n",
    "for s in x:\n",
    "    s = preprocess_text(s)\n",
    "    encoded_input = tokenizer(s, padding=True, truncation=True, max_length=256, return_tensors='pt')\n",
    "    with torch.no_grad():\n",
    "        model_output = model(**encoded_input)\n",
    "    emb = model_output.pooler_output\n",
    "    list.append((emb)[0].numpy())\n",
    "\n",
    "x_embeddings = np.asarray(list)"
   ]
  },
  {
   "cell_type": "markdown",
   "metadata": {},
   "source": [
    "5000\n",
    "\n",
    "SVC\n",
    "F1_Y_GROUP:  0.681\n",
    "F1_Y_THEME:  0.283\n",
    "F1:  0.482\n",
    "\n",
    "SVC(kernel='linear', C=1.0))\n",
    "F1_Y_GROUP:  0.701\n",
    "F1_Y_THEME:  0.344\n",
    "F1:  0.522"
   ]
  },
  {
   "cell_type": "code",
   "execution_count": 114,
   "metadata": {},
   "outputs": [
    {
     "name": "stdout",
     "output_type": "stream",
     "text": [
      "F1_Y_GROUP:  0.701\n",
      "F1_Y_THEME:  0.344\n",
      "F1:  0.522\n"
     ]
    }
   ],
   "source": [
    "from sklearn.multioutput import MultiOutputClassifier\n",
    "from sklearn.svm import SVC\n",
    "from sklearn.metrics import f1_score\n",
    "from sklearn.model_selection import train_test_split\n",
    "\n",
    "x_train, x_test, y_train, y_test = train_test_split(x_embeddings, y, test_size=0.1, random_state=8)\n",
    "\n",
    "model = MultiOutputClassifier(SVC(kernel='linear', C=1.0))\n",
    "model.fit(x_train, y_train)\n",
    "\n",
    "y_pred = model.predict(x_test)\n",
    "f1_y1 = f1_score(y_test.T[0].reshape(-1, 1), y_pred.T[0].reshape(-1, 1), average='weighted')\n",
    "f1_y2 = f1_score(y_test.T[1].reshape(-1, 1), y_pred.T[1].reshape(-1, 1), average='weighted')\n",
    "print('F1_Y_GROUP: ', round(f1_y1, 3))\n",
    "print('F1_Y_THEME: ', round(f1_y2, 3))\n",
    "print('F1: ', round((f1_y1 + f1_y2)/2, 3))"
   ]
  }
 ],
 "metadata": {
  "kernelspec": {
   "display_name": "Python 3",
   "language": "python",
   "name": "python3"
  },
  "language_info": {
   "codemirror_mode": {
    "name": "ipython",
    "version": 3
   },
   "file_extension": ".py",
   "mimetype": "text/x-python",
   "name": "python",
   "nbconvert_exporter": "python",
   "pygments_lexer": "ipython3",
   "version": "3.11.5"
  }
 },
 "nbformat": 4,
 "nbformat_minor": 2
}
