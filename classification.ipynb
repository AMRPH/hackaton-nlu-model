{
 "cells": [
  {
   "cell_type": "code",
   "execution_count": 1,
   "metadata": {},
   "outputs": [],
   "source": [
    "import pandas as pd\n",
    "dataset = pd.read_csv('DataSets/train.csv', delimiter=';')"
   ]
  },
  {
   "cell_type": "code",
   "execution_count": 2,
   "metadata": {},
   "outputs": [
    {
     "name": "stderr",
     "output_type": "stream",
     "text": [
      "[nltk_data] Downloading package stopwords to\n",
      "[nltk_data]     C:\\Users\\skinn\\AppData\\Roaming\\nltk_data...\n",
      "[nltk_data]   Package stopwords is already up-to-date!\n"
     ]
    }
   ],
   "source": [
    "import pymorphy3\n",
    "from razdel import tokenize\n",
    "import nltk\n",
    "from nltk.corpus import stopwords\n",
    "\n",
    "nltk.download(\"stopwords\")\n",
    "russian_stopwords = stopwords.words(\"russian\")\n",
    "\n",
    "dataset = dataset.drop_duplicates()\n",
    "dataset = dataset[dataset['Текст инцидента'] != '\\'Сообщение без текста']\n",
    "\n",
    "morph = pymorphy3.MorphAnalyzer()\n",
    "\n",
    "stopTags = ['PNCT', 'NUMB', 'UNKN', 'LATN', 'ROMN']\n",
    "\n",
    "def preprocess_text(text):\n",
    "    tokens = tokenize(text.lower())\n",
    "    tokens = [morph.parse(token.text)[0].normal_form for token in tokens \n",
    "              if morph.parse(token.text)[0].normal_form not in russian_stopwords and \n",
    "              not any(tag in morph.parse(token.text)[0].tag for tag in stopTags)]\n",
    "    text = \" \".join(tokens) \n",
    "    return text\n",
    "\n",
    "def get_themes_code():\n",
    "    themes = dataset['Тема'].unique()\n",
    "    dict = {themes[i]:i for i in range(0, len(themes))}\n",
    "    return dict\n",
    "\n",
    "themes_code = get_themes_code()\n",
    "\n",
    "def get_group_code():\n",
    "    themes = dataset['Группа тем'].unique()\n",
    "    dict = {themes[i]:i for i in range(0, len(themes))}\n",
    "    return dict\n",
    "\n",
    "group_code = get_group_code()"
   ]
  },
  {
   "cell_type": "code",
   "execution_count": 8,
   "metadata": {},
   "outputs": [],
   "source": [
    "import numpy as np\n",
    "import torch\n",
    "from transformers import AutoTokenizer, AutoModel\n",
    "\n",
    "data = dataset\n",
    "\n",
    "x = data['Текст инцидента']\n",
    "y1 = data['Группа тем']\n",
    "y1 = np.array(y1.replace(group_code)).reshape(-1, 1)\n",
    "y2 = data['Тема']\n",
    "y2 = np.array(y2.replace(themes_code)).reshape(-1, 1)\n",
    "y = np.hstack((y1,y2))"
   ]
  },
  {
   "cell_type": "code",
   "execution_count": 9,
   "metadata": {},
   "outputs": [],
   "source": [
    "tokenizer = AutoTokenizer.from_pretrained(\"cointegrated/LaBSE-en-ru\")\n",
    "model = AutoModel.from_pretrained(\"cointegrated/LaBSE-en-ru\")\n",
    "\n",
    "list = []\n",
    "\n",
    "for s in x:\n",
    "    s = preprocess_text(s)\n",
    "    encoded_input = tokenizer(s, padding=True, truncation=True, max_length=256, return_tensors='pt')\n",
    "    with torch.no_grad():\n",
    "        model_output = model(**encoded_input)\n",
    "    emb = model_output.pooler_output\n",
    "    list.append((emb)[0].numpy())\n",
    "\n",
    "x_embeddings = np.asarray(list)"
   ]
  },
  {
   "cell_type": "code",
   "execution_count": 10,
   "metadata": {},
   "outputs": [],
   "source": [
    "np.save(f'embeddings_{len(x_embeddings)}', x_embeddings)"
   ]
  },
  {
   "cell_type": "code",
   "execution_count": 9,
   "metadata": {},
   "outputs": [],
   "source": [
    "x_embeddings = np.load('embeddings_500.npy')"
   ]
  },
  {
   "cell_type": "code",
   "execution_count": null,
   "metadata": {},
   "outputs": [],
   "source": [
    "from sklearn.svm import SVC\n",
    "from sklearn.metrics import f1_score\n",
    "from sklearn.model_selection import train_test_split\n",
    "\n",
    "x_group_train, x_group_test, y_group_train, y_group_test = train_test_split(x_embeddings, y1, test_size=0.1, random_state=0)\n",
    "\n",
    "group_model = SVC(kernel='linear', C=1.0)\n",
    "group_model.fit(x_group_train, y_group_train)\n",
    "\n",
    "y_group_pred = group_model.predict(x_group_test)\n",
    "\n",
    "print('F1_GROUP: ', round(f1_score(y_group_test, y_group_pred, average='weighted'), 3))"
   ]
  },
  {
   "cell_type": "code",
   "execution_count": null,
   "metadata": {},
   "outputs": [],
   "source": [
    "x_theme_train, x_theme_test, y_theme_train, y_theme_test = train_test_split(x_embeddings, y2, test_size=0.1, random_state=0)\n",
    "x_theme_train = np.hstack((x_theme_train, y_group_train))\n",
    "x_theme_test = np.hstack((x_theme_test, y_group_pred))\n",
    "\n",
    "theme_model = SVC(kernel='linear', C=1.0)\n",
    "theme_model.fit(x_theme_train, y_theme_train)\n",
    "\n",
    "y_theme_pred = group_model.predict(x_group_test)\n",
    "\n",
    "print('F1_THEME: ', round(f1_score(y_theme_test, y_theme_pred, average='weighted'), 3))"
   ]
  },
  {
   "cell_type": "code",
   "execution_count": 126,
   "metadata": {},
   "outputs": [
    {
     "name": "stdout",
     "output_type": "stream",
     "text": [
      "F1_Y_GROUP:  0.676\n",
      "F1_Y_THEME:  0.333\n",
      "F1:  0.504\n"
     ]
    }
   ],
   "source": [
    "from sklearn.multioutput import MultiOutputClassifier\n",
    "\n",
    "x_train, x_test, y_train, y_test = train_test_split(x_embeddings, y, test_size=0.1, random_state=8)\n",
    "\n",
    "model = MultiOutputClassifier(SVC(kernel='linear', C=1.0))\n",
    "model.fit(x_train, y_train)\n",
    "\n",
    "y_pred = model.predict(x_test)\n",
    "f1_y1 = f1_score(y_test.T[0].reshape(-1, 1), y_pred.T[0].reshape(-1, 1), average='weighted')\n",
    "f1_y2 = f1_score(y_test.T[1].reshape(-1, 1), y_pred.T[1].reshape(-1, 1), average='weighted')\n",
    "print('F1_Y_GROUP: ', round(f1_y1, 3))\n",
    "print('F1_Y_THEME: ', round(f1_y2, 3))\n",
    "print('F1: ', round((f1_y1 + f1_y2)/2, 3))"
   ]
  },
  {
   "cell_type": "markdown",
   "metadata": {},
   "source": [
    "~~~\n",
    "5000\n",
    "\n",
    "SVC\n",
    "F1_Y_GROUP:  0.681\n",
    "F1_Y_THEME:  0.283\n",
    "F1:  0.482\n",
    "\n",
    "SVC(kernel='linear', C=1.0)\n",
    "F1_Y_GROUP:  0.701\n",
    "F1_Y_THEME:  0.344\n",
    "F1:  0.522\n",
    "~~~"
   ]
  }
 ],
 "metadata": {
  "kernelspec": {
   "display_name": "Python 3",
   "language": "python",
   "name": "python3"
  },
  "language_info": {
   "codemirror_mode": {
    "name": "ipython",
    "version": 3
   },
   "file_extension": ".py",
   "mimetype": "text/x-python",
   "name": "python",
   "nbconvert_exporter": "python",
   "pygments_lexer": "ipython3",
   "version": "3.11.5"
  }
 },
 "nbformat": 4,
 "nbformat_minor": 2
}
