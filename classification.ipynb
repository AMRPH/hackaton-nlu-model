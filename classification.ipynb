{
 "cells": [
  {
   "cell_type": "code",
   "execution_count": 9,
   "metadata": {},
   "outputs": [],
   "source": [
    "import pandas as pd\n",
    "#F1: 0.725 with lengths=64\n",
    "dataset = pd.read_csv('DataSets/train.csv', delimiter=';')"
   ]
  },
  {
   "cell_type": "code",
   "execution_count": 10,
   "metadata": {},
   "outputs": [
    {
     "name": "stderr",
     "output_type": "stream",
     "text": [
      "[nltk_data] Downloading package stopwords to\n",
      "[nltk_data]     C:\\Users\\skinn\\AppData\\Roaming\\nltk_data...\n",
      "[nltk_data]   Package stopwords is already up-to-date!\n"
     ]
    }
   ],
   "source": [
    "import pymorphy3\n",
    "from razdel import tokenize\n",
    "import nltk\n",
    "from nltk.corpus import stopwords\n",
    "\n",
    "nltk.download(\"stopwords\")\n",
    "russian_stopwords = stopwords.words(\"russian\")\n",
    "\n",
    "dataset = dataset.drop_duplicates()\n",
    "dataset = dataset[dataset['Текст инцидента'] != '\\'Сообщение без текста']\n",
    "\n",
    "morph = pymorphy3.MorphAnalyzer()\n",
    "\n",
    "stopTags = ['PNCT', 'NUMB', 'UNKN', 'LATN', 'ROMN']\n",
    "\n",
    "def preprocess_text(text):\n",
    "    tokens = tokenize(text.lower())\n",
    "    tokens = [morph.parse(token.text)[0].normal_form for token in tokens \n",
    "              if morph.parse(token.text)[0].normal_form not in russian_stopwords and \n",
    "              not any(tag in morph.parse(token.text)[0].tag for tag in stopTags)]\n",
    "    text = \" \".join(tokens) \n",
    "    return text"
   ]
  },
  {
   "cell_type": "code",
   "execution_count": 13,
   "metadata": {},
   "outputs": [
    {
     "data": {
      "text/plain": [
       "array([[-0.5993534 , -0.5329674 , -0.3089232 , ..., -0.25764155,\n",
       "         0.20807755, -0.3908437 ],\n",
       "       [-0.10810643, -0.20137183, -0.11567824, ...,  0.1349186 ,\n",
       "         0.45696893,  0.14298844],\n",
       "       [-0.47009376, -0.4102283 , -0.45205635, ...,  0.37215862,\n",
       "         0.06323637,  0.21283597],\n",
       "       ...,\n",
       "       [ 0.33865994, -0.30628103,  0.36830246, ...,  0.00386963,\n",
       "         0.32990623, -0.38045648],\n",
       "       [ 0.44030604, -0.39870185,  0.2853529 , ...,  0.29838768,\n",
       "         0.65875113, -0.00168661],\n",
       "       [ 0.367628  , -0.0368626 , -0.04331934, ...,  0.17363282,\n",
       "         0.5088029 , -0.31159937]], dtype=float32)"
      ]
     },
     "execution_count": 13,
     "metadata": {},
     "output_type": "execute_result"
    }
   ],
   "source": [
    "import numpy as np\n",
    "import torch\n",
    "from transformers import AutoTokenizer, AutoModel\n",
    "tokenizer = AutoTokenizer.from_pretrained(\"cointegrated/LaBSE-en-ru\")\n",
    "model = AutoModel.from_pretrained(\"cointegrated/LaBSE-en-ru\")\n",
    "\n",
    "data = dataset.iloc[:2000, :]\n",
    "\n",
    "x = data['Текст инцидента']\n",
    "y = data['Группа тем']\n",
    "group_code = {\n",
    "    'Благоустройство': 0,\n",
    "    'Социальное обслуживание и защита': 1,\n",
    "    'Общественный транспорт': 2,\n",
    "    'Здравоохранение/Медицина': 3,\n",
    "    'Мусор/Свалки/ТКО': 4,\n",
    "    'Образование': 5,\n",
    "    'Дороги': 6,\n",
    "    'ЖКХ': 7,\n",
    "    'Коронавирус': 8,\n",
    "    'Экономика и бизнес': 9,\n",
    "    'Культура': 10,\n",
    "    'Связь и телевидение': 11,\n",
    "    'Газ и топливо': 12,\n",
    "    'Безопасность': 13,\n",
    "    'Спецпроекты': 14,\n",
    "    'Мобилизация': 15,\n",
    "    'МФЦ \"Мои документы\"': 16,\n",
    "    'Физическая культура и спорт': 17,\n",
    "    'Торговля': 18,\n",
    "    'Строительство и архитектура': 19,\n",
    "    'Памятники и объекты культурного наследия': 20,\n",
    "    'Экология': 21,\n",
    "    'Государственная собственность': 22,\n",
    "    'Роспотребнадзор': 23,\n",
    "    'Погребение и похоронное дело': 24,\n",
    "    'Электроснабжение': 25}\n",
    "y = np.array(y.replace(group_code)).reshape(-1, 1)\n",
    "\n",
    "list = []\n",
    "\n",
    "for s in x:\n",
    "    s = preprocess_text(s)\n",
    "    encoded_input = tokenizer(s, padding=True, truncation=True, max_length=256, return_tensors='pt')\n",
    "    with torch.no_grad():\n",
    "        model_output = model(**encoded_input)\n",
    "    emb = model_output.pooler_output\n",
    "    list.append((emb)[0].numpy())\n",
    "\n",
    "x_embeddings = np.asarray(list)\n"
   ]
  },
  {
   "cell_type": "code",
   "execution_count": 14,
   "metadata": {},
   "outputs": [
    {
     "name": "stderr",
     "output_type": "stream",
     "text": [
      "c:\\Users\\skinn\\AppData\\Local\\Programs\\Python\\Python311\\Lib\\site-packages\\sklearn\\utils\\validation.py:1183: DataConversionWarning: A column-vector y was passed when a 1d array was expected. Please change the shape of y to (n_samples, ), for example using ravel().\n",
      "  y = column_or_1d(y, warn=True)\n"
     ]
    },
    {
     "name": "stdout",
     "output_type": "stream",
     "text": [
      "F1:  0.639\n"
     ]
    }
   ],
   "source": [
    "from sklearn.svm import SVC\n",
    "from sklearn.metrics import f1_score\n",
    "from sklearn.model_selection import train_test_split\n",
    "\n",
    "x_train, x_test, y_train, y_test = train_test_split(x_embeddings, y, test_size=0.2, random_state=8)\n",
    "\n",
    "model = SVC()\n",
    "model.fit(x_train, y_train)\n",
    "\n",
    "y_pred = model.predict(x_test)\n",
    "\n",
    "print('F1: ', round(f1_score(y_test,y_pred, average='weighted'), 3))"
   ]
  }
 ],
 "metadata": {
  "kernelspec": {
   "display_name": "Python 3",
   "language": "python",
   "name": "python3"
  },
  "language_info": {
   "codemirror_mode": {
    "name": "ipython",
    "version": 3
   },
   "file_extension": ".py",
   "mimetype": "text/x-python",
   "name": "python",
   "nbconvert_exporter": "python",
   "pygments_lexer": "ipython3",
   "version": "3.11.5"
  }
 },
 "nbformat": 4,
 "nbformat_minor": 2
}
