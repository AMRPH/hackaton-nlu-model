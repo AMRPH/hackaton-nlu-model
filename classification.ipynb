{
 "cells": [
  {
   "cell_type": "code",
   "execution_count": 4,
   "metadata": {},
   "outputs": [],
   "source": [
    "import pandas as pd\n",
    "import numpy as np\n",
    "dataset = pd.read_csv('datasets/train.csv', delimiter=';')\n",
    "dataset_gpt1 = pd.read_csv('datasets/gpt1.csv', delimiter=';')\n",
    "dataset_gpt2 = pd.read_csv('datasets/gpt2.csv', delimiter=';')\n",
    "dataset_gpt3 = pd.read_csv('datasets/gpt3.csv', delimiter=';')\n",
    "dataset_gpt4 = pd.read_csv('datasets/gpt4.csv', delimiter=';')\n",
    "dataset_gpt5 = pd.read_csv('datasets/gpt5.csv', delimiter=';')\n",
    "dataset_gpt6 = pd.read_csv('datasets/gpt6.csv', delimiter=';')\n",
    "\n",
    "datasets = [dataset_gpt1, dataset_gpt2, dataset_gpt3, dataset_gpt4, dataset_gpt5, dataset_gpt6]\n",
    "test_count = 6000"
   ]
  },
  {
   "cell_type": "code",
   "execution_count": 11,
   "metadata": {},
   "outputs": [
    {
     "data": {
      "text/plain": [
       "(44518, 4)"
      ]
     },
     "execution_count": 11,
     "metadata": {},
     "output_type": "execute_result"
    }
   ],
   "source": [
    "data = dataset.drop_duplicates()\n",
    "data = data.dropna()\n",
    "data = data[data['Текст инцидента'] != '\\'Сообщение без текста']\n",
    "for msg in data['Текст инцидента']:\n",
    "    if len(msg.split(' ')) <= 2:    \n",
    "        data = data[data['Текст инцидента'] != msg]\n",
    "\n",
    "data_test = data.iloc[:test_count, :]\n",
    "data_train = data.iloc[test_count:, :]\n",
    "\n",
    "for d in datasets:\n",
    "    d = d.drop_duplicates()\n",
    "    d = d.dropna()\n",
    "    d = d[d['Текст инцидента'] != '\\'Сообщение без текста']\n",
    "    for msg in d['Текст инцидента']:\n",
    "        if len(msg.split(' ')) <= 2:    \n",
    "            d = d[d['Текст инцидента'] != msg]\n",
    "    \n",
    "    data_train = data_train._append(d)\n",
    "\n",
    "\n",
    "def get_group_code():\n",
    "    groups = dataset['Группа тем'].unique()\n",
    "    dict = {groups[i]:i for i in range(0, len(groups))}\n",
    "    return dict\n",
    "\n",
    "group_codes = get_group_code()\n",
    "\n",
    "def get_themes_code():\n",
    "    themes = dataset['Тема'].unique()\n",
    "    dict = {themes[i]:i for i in range(0, len(themes))}\n",
    "    return dict\n",
    "\n",
    "themes_codes = get_themes_code()\n",
    "\n",
    "group_test = data_test['Группа тем']\n",
    "group_test = np.array(group_test.replace(group_codes))\n",
    "theme_test = data_test['Тема']\n",
    "theme_test = np.array(theme_test.replace(themes_codes))\n",
    "\n",
    "group_train = data_train['Группа тем']\n",
    "group_train = np.array(group_train.replace(group_codes))\n",
    "theme_train = data_train['Тема']\n",
    "theme_train = np.array(theme_train.replace(themes_codes))\n",
    "\n",
    "\n",
    "\n",
    "data_train.shape"
   ]
  },
  {
   "cell_type": "code",
   "execution_count": 17,
   "metadata": {},
   "outputs": [
    {
     "data": {
      "text/plain": [
       "' 22554\\nimport torch\\nfrom transformers import AutoTokenizer, AutoModel\\n\\ntokenizer = AutoTokenizer.from_pretrained(\"cointegrated/LaBSE-en-ru\")\\nmodel = AutoModel.from_pretrained(\"cointegrated/LaBSE-en-ru\")\\n\\nlist = []\\n\\nfor s in x:\\n    s = preprocess_text(s)\\n    encoded_input = tokenizer(s, padding=True, truncation=True, max_length=256, return_tensors=\\'pt\\')\\n    with torch.no_grad():\\n        model_output = model(**encoded_input)\\n    emb = model_output.pooler_output\\n    list.append((emb)[0].numpy())\\n\\nx_embeddings = np.asarray(list)\\n\\n#сохранить embeddings\\nnp.save(f\\'embeddings_original\\', x_embeddings)\\n'"
      ]
     },
     "execution_count": 17,
     "metadata": {},
     "output_type": "execute_result"
    }
   ],
   "source": [
    "#for get new embeddings from another dataset\n",
    "'''\n",
    "import torch\n",
    "from transformers import AutoTokenizer, AutoModel\n",
    "\n",
    "import pymorphy3\n",
    "from razdel import tokenize\n",
    "import nltk\n",
    "from nltk.corpus import stopwords\n",
    "\n",
    "nltk.download(\"stopwords\")\n",
    "russian_stopwords = stopwords.words(\"russian\")\n",
    "\n",
    "morph = pymorphy3.MorphAnalyzer()\n",
    "\n",
    "stopTags = ['PNCT', 'NUMB', 'UNKN', 'LATN', 'ROMN']\n",
    "\n",
    "def preprocess_text(text):\n",
    "    tokens = tokenize(text.lower())\n",
    "    tokens = [morph.parse(token.text)[0].normal_form for token in tokens \n",
    "              if morph.parse(token.text)[0].normal_form not in russian_stopwords and \n",
    "              not any(tag in morph.parse(token.text)[0].tag for tag in stopTags)]\n",
    "    text = \" \".join(tokens) \n",
    "    return text\n",
    "\n",
    "tokenizer = AutoTokenizer.from_pretrained(\"cointegrated/LaBSE-en-ru\")\n",
    "model = AutoModel.from_pretrained(\"cointegrated/LaBSE-en-ru\")\n",
    "\n",
    "texts = []\n",
    "\n",
    "list = []\n",
    "\n",
    "for s in texts:\n",
    "    s = preprocess_text(s)\n",
    "    encoded_input = tokenizer(s, padding=True, truncation=True, max_length=256, return_tensors='pt')\n",
    "    with torch.no_grad():\n",
    "        model_output = model(**encoded_input)\n",
    "    emb = model_output.pooler_output\n",
    "    list.append((emb)[0].numpy())\n",
    "\n",
    "x_embeddings = np.asarray(list)\n",
    "\n",
    "np.save(f'embeddings', x_embeddings)\n",
    "'''"
   ]
  },
  {
   "cell_type": "code",
   "execution_count": 9,
   "metadata": {},
   "outputs": [
    {
     "data": {
      "text/plain": [
       "(44518, 768)"
      ]
     },
     "execution_count": 9,
     "metadata": {},
     "output_type": "execute_result"
    }
   ],
   "source": [
    "#for get embeddings from datasets\n",
    "embeddings = np.load('embeddings/embeddings_original.npy')\n",
    "embeddings_test = embeddings[:test_count]\n",
    "embeddings_gpt1 = np.load('embeddings/embeddings_gpt1.npy')\n",
    "embeddings_gpt2 = np.load('embeddings/embeddings_gpt2.npy')\n",
    "embeddings_gpt3 = np.load('embeddings/embeddings_gpt3.npy')\n",
    "embeddings_gpt4 = np.load('embeddings/embeddings_gpt4.npy')\n",
    "embeddings_gpt5 = np.load('embeddings/embeddings_gpt5.npy')\n",
    "embeddings_gpt6 = np.load('embeddings/embeddings_gpt6.npy')\n",
    "\n",
    "embeddings_train = np.concatenate([embeddings[test_count:], embeddings_gpt1, \n",
    "                                     embeddings_gpt2, embeddings_gpt3, embeddings_gpt4, \n",
    "                                     embeddings_gpt5, embeddings_gpt6])\n",
    "embeddings_train.shape"
   ]
  },
  {
   "cell_type": "code",
   "execution_count": 19,
   "metadata": {},
   "outputs": [],
   "source": [
    "from sklearn.svm import SVC\n",
    "from sklearn.metrics import f1_score\n",
    "\n",
    "x_group_train, x_group_test, y_group_train, y_group_test = embeddings_train, embeddings_test, group_train, group_test\n",
    "\n",
    "x_theme_train, x_theme_test, y_theme_train, y_theme_test = embeddings_train, embeddings_test, theme_train, theme_test\n",
    "\n",
    "x_theme_train = np.hstack((x_theme_train, y_group_train.reshape(-1, 1)))\n",
    "x_theme_test = np.hstack((x_theme_test, y_group_test.reshape(-1, 1)))"
   ]
  },
  {
   "cell_type": "code",
   "execution_count": 20,
   "metadata": {},
   "outputs": [
    {
     "name": "stdout",
     "output_type": "stream",
     "text": [
      "F1_GROUP:  0.833\n"
     ]
    }
   ],
   "source": [
    "group_model = SVC(C = 3, random_state=10)\n",
    "group_model.fit(x_group_train, y_group_train)\n",
    "\n",
    "y_group_pred = group_model.predict(x_group_test)\n",
    "\n",
    "f1_group = f1_score(y_group_test, y_group_pred, average='weighted')\n",
    "print('F1_GROUP: ', round(f1_group, 3))"
   ]
  },
  {
   "cell_type": "code",
   "execution_count": 21,
   "metadata": {},
   "outputs": [],
   "source": [
    "theme_model = SVC(C = 4, random_state=10)\n",
    "theme_model.fit(x_theme_train, y_theme_train)\n",
    "\n",
    "y_theme_pred = theme_model.predict(x_theme_test)\n",
    "\n",
    "f1_theme = f1_group * f1_score(y_theme_test, y_theme_pred, average='weighted')\n",
    "print('F1_THEME: ', round(f1_theme, 3))"
   ]
  },
  {
   "cell_type": "code",
   "execution_count": null,
   "metadata": {},
   "outputs": [
    {
     "data": {
      "text/plain": [
       "['theme_model.joblib']"
      ]
     },
     "execution_count": 14,
     "metadata": {},
     "output_type": "execute_result"
    }
   ],
   "source": [
    "from joblib import dump, load\n",
    "#dump(group_model, 'group_model.joblib')\n",
    "#dump(theme_model, 'theme_model.joblib')\n"
   ]
  },
  {
   "cell_type": "markdown",
   "metadata": {},
   "source": [
    "### F1_GROUP:  0.835\n",
    "### F1_THEME:  0.744 0.621\n"
   ]
  }
 ],
 "metadata": {
  "kernelspec": {
   "display_name": "Python 3",
   "language": "python",
   "name": "python3"
  },
  "language_info": {
   "codemirror_mode": {
    "name": "ipython",
    "version": 3
   },
   "file_extension": ".py",
   "mimetype": "text/x-python",
   "name": "python",
   "nbconvert_exporter": "python",
   "pygments_lexer": "ipython3",
   "version": "3.11.5"
  }
 },
 "nbformat": 4,
 "nbformat_minor": 2
}
