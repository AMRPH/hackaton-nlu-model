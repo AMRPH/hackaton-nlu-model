{
 "cells": [
  {
   "cell_type": "code",
   "execution_count": 14,
   "metadata": {},
   "outputs": [],
   "source": [
    "import pandas as pd\n",
    "dataset = pd.read_csv('DataSets/train.csv', delimiter=';')"
   ]
  },
  {
   "cell_type": "code",
   "execution_count": 15,
   "metadata": {},
   "outputs": [
    {
     "name": "stderr",
     "output_type": "stream",
     "text": [
      "[nltk_data] Downloading package stopwords to\n",
      "[nltk_data]     C:\\Users\\skinn\\AppData\\Roaming\\nltk_data...\n",
      "[nltk_data]   Package stopwords is already up-to-date!\n"
     ]
    }
   ],
   "source": [
    "import pymorphy3\n",
    "from razdel import tokenize\n",
    "import nltk\n",
    "from nltk.corpus import stopwords\n",
    "\n",
    "nltk.download(\"stopwords\")\n",
    "russian_stopwords = stopwords.words(\"russian\")\n",
    "\n",
    "dataset = dataset.drop_duplicates()\n",
    "dataset = dataset[dataset['Текст инцидента'] != '\\'Сообщение без текста']\n",
    "\n",
    "morph = pymorphy3.MorphAnalyzer()\n",
    "\n",
    "stopTags = ['PNCT', 'NUMB', 'UNKN', 'LATN', 'ROMN']\n",
    "\n",
    "def preprocess_text(text):\n",
    "    tokens = tokenize(text.lower())\n",
    "    tokens = [morph.parse(token.text)[0].normal_form for token in tokens \n",
    "              if morph.parse(token.text)[0].normal_form not in russian_stopwords and \n",
    "              not any(tag in morph.parse(token.text)[0].tag for tag in stopTags)]\n",
    "    text = \" \".join(tokens) \n",
    "    return text\n",
    "\n",
    "def get_themes_code():\n",
    "    themes = dataset['Тема'].unique()\n",
    "    dict = {themes[i]:i for i in range(0, len(themes))}\n",
    "    return dict\n",
    "\n",
    "themes_code = get_themes_code()\n",
    "\n",
    "def get_group_code():\n",
    "    themes = dataset['Группа тем'].unique()\n",
    "    dict = {themes[i]:i for i in range(0, len(themes))}\n",
    "    return dict\n",
    "\n",
    "group_code = get_group_code()"
   ]
  },
  {
   "cell_type": "code",
   "execution_count": 16,
   "metadata": {},
   "outputs": [],
   "source": [
    "import numpy as np\n",
    "import torch\n",
    "from transformers import AutoTokenizer, AutoModel\n",
    "\n",
    "data = dataset\n",
    "\n",
    "x = data['Текст инцидента']\n",
    "y1 = data['Группа тем']\n",
    "y1 = np.array(y1.replace(group_code))\n",
    "y2 = data['Тема']\n",
    "y2 = np.array(y2.replace(themes_code))"
   ]
  },
  {
   "cell_type": "code",
   "execution_count": 9,
   "metadata": {},
   "outputs": [],
   "source": [
    "#не запускать\n",
    "tokenizer = AutoTokenizer.from_pretrained(\"cointegrated/LaBSE-en-ru\")\n",
    "model = AutoModel.from_pretrained(\"cointegrated/LaBSE-en-ru\")\n",
    "\n",
    "list = []\n",
    "\n",
    "for s in x:\n",
    "    s = preprocess_text(s)\n",
    "    encoded_input = tokenizer(s, padding=True, truncation=True, max_length=256, return_tensors='pt')\n",
    "    with torch.no_grad():\n",
    "        model_output = model(**encoded_input)\n",
    "    emb = model_output.pooler_output\n",
    "    list.append((emb)[0].numpy())\n",
    "\n",
    "x_embeddings = np.asarray(list)\n",
    "\n",
    "#сохранить embeddings\n",
    "np.save(f'embeddings_{len(x_embeddings)}', x_embeddings)"
   ]
  },
  {
   "cell_type": "code",
   "execution_count": 17,
   "metadata": {},
   "outputs": [],
   "source": [
    "#загрузить embeddings\n",
    "x_embeddings = np.load('embeddings_22841.npy')"
   ]
  },
  {
   "cell_type": "code",
   "execution_count": 18,
   "metadata": {},
   "outputs": [
    {
     "name": "stdout",
     "output_type": "stream",
     "text": [
      "F1_GROUP:  0.704\n"
     ]
    }
   ],
   "source": [
    "from sklearn.svm import LinearSVC\n",
    "from sklearn.metrics import f1_score\n",
    "from sklearn.model_selection import train_test_split\n",
    "\n",
    "x_group_train, x_group_test, y_group_train, y_group_test = train_test_split(x_embeddings, y1, test_size=0.1, random_state=0)\n",
    "\n",
    "group_model = LinearSVC(dual=False)\n",
    "group_model.fit(x_group_train, y_group_train)\n",
    "\n",
    "y_group_pred = group_model.predict(x_group_test)\n",
    "\n",
    "print('F1_GROUP: ', round(f1_score(y_group_test, y_group_pred, average='weighted'), 3))"
   ]
  },
  {
   "cell_type": "code",
   "execution_count": 19,
   "metadata": {},
   "outputs": [
    {
     "name": "stdout",
     "output_type": "stream",
     "text": [
      "accuracy_GROUP:  0.711\n"
     ]
    }
   ],
   "source": [
    "from sklearn.metrics import accuracy_score\n",
    "print('accuracy_GROUP: ', round(accuracy_score(y_group_test, y_group_pred), 3))"
   ]
  },
  {
   "cell_type": "code",
   "execution_count": 27,
   "metadata": {},
   "outputs": [
    {
     "name": "stdout",
     "output_type": "stream",
     "text": [
      "F1_THEME:  0.424\n"
     ]
    }
   ],
   "source": [
    "x_theme_train, x_theme_test, y_theme_train, y_theme_test = train_test_split(x_embeddings, y2, test_size=0.1, random_state=0)\n",
    "x_theme_train = np.hstack((x_theme_train, y_group_train.reshape(-1, 1)))\n",
    "x_theme_test = np.hstack((x_theme_test, y_group_test.reshape(-1, 1)))\n",
    "\n",
    "theme_model = LinearSVC(dual=False)\n",
    "theme_model.fit(x_theme_train, y_theme_train)\n",
    "\n",
    "y_theme_pred = theme_model.predict(x_theme_test)\n",
    "\n",
    "print('F1_THEME: ', round(f1_score(y_theme_test, y_theme_pred, average='weighted'), 3))"
   ]
  },
  {
   "cell_type": "code",
   "execution_count": 28,
   "metadata": {},
   "outputs": [
    {
     "name": "stdout",
     "output_type": "stream",
     "text": [
      "accuracy_GROUP:  0.426\n"
     ]
    }
   ],
   "source": [
    "print('accuracy_GROUP: ', round(accuracy_score(y_theme_test, y_theme_pred), 3))"
   ]
  },
  {
   "cell_type": "markdown",
   "metadata": {},
   "source": [
    "~~~\n",
    "22841\n",
    "\n",
    "SVC\n",
    "F1_GROUP:  0.717\n",
    "F1_THEME:  0.512\n",
    "~~~"
   ]
  }
 ],
 "metadata": {
  "kernelspec": {
   "display_name": "Python 3 (ipykernel)",
   "language": "python",
   "name": "python3"
  },
  "language_info": {
   "codemirror_mode": {
    "name": "ipython",
    "version": 3
   },
   "file_extension": ".py",
   "mimetype": "text/x-python",
   "name": "python",
   "nbconvert_exporter": "python",
   "pygments_lexer": "ipython3",
   "version": "3.10.12"
  }
 },
 "nbformat": 4,
 "nbformat_minor": 2
}
