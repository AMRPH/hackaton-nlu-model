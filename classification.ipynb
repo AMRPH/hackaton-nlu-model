{
 "cells": [
  {
   "cell_type": "code",
   "execution_count": 70,
   "metadata": {},
   "outputs": [],
   "source": [
    "import pandas as pd\n",
    "import numpy as np\n",
    "dataset = pd.read_csv('DataSets/train.csv', delimiter=';')\n",
    "dataset_gp1 = pd.read_csv('DataSets/gpt1.csv', delimiter=';')\n",
    "dataset_gp2 = pd.read_csv('DataSets/gpt2.csv', delimiter=';')\n",
    "dataset_gp3 = pd.read_csv('DataSets/gpt3.csv', delimiter=';')\n",
    "dataset_gp3 = pd.read_csv('DataSets/gpt4.csv', delimiter=';')"
   ]
  },
  {
   "cell_type": "code",
   "execution_count": 71,
   "metadata": {},
   "outputs": [
    {
     "name": "stderr",
     "output_type": "stream",
     "text": [
      "[nltk_data] Downloading package stopwords to\n",
      "[nltk_data]     C:\\Users\\skinn\\AppData\\Roaming\\nltk_data...\n",
      "[nltk_data]   Package stopwords is already up-to-date!\n"
     ]
    },
    {
     "data": {
      "text/plain": [
       "(36179, 4)"
      ]
     },
     "execution_count": 71,
     "metadata": {},
     "output_type": "execute_result"
    }
   ],
   "source": [
    "import pymorphy3\n",
    "from razdel import tokenize\n",
    "import nltk\n",
    "from nltk.corpus import stopwords\n",
    "\n",
    "nltk.download(\"stopwords\")\n",
    "russian_stopwords = stopwords.words(\"russian\")\n",
    "\n",
    "morph = pymorphy3.MorphAnalyzer()\n",
    "\n",
    "stopTags = ['PNCT', 'NUMB', 'UNKN', 'LATN', 'ROMN']\n",
    "\n",
    "def preprocess_text(text):\n",
    "    tokens = tokenize(text.lower())\n",
    "    tokens = [morph.parse(token.text)[0].normal_form for token in tokens \n",
    "              if morph.parse(token.text)[0].normal_form not in russian_stopwords and \n",
    "              not any(tag in morph.parse(token.text)[0].tag for tag in stopTags)]\n",
    "    text = \" \".join(tokens) \n",
    "    return text\n",
    "\n",
    "\n",
    "dataset = dataset.drop_duplicates()\n",
    "dataset = dataset.dropna()\n",
    "dataset = dataset[dataset['Текст инцидента'] != '\\'Сообщение без текста']\n",
    "for msg in dataset['Текст инцидента']:\n",
    "    if len(msg.split(' ')) <= 2:    \n",
    "        dataset = dataset[dataset['Текст инцидента'] != msg]\n",
    "\n",
    "dataset_gp1 = dataset_gp1.drop_duplicates()\n",
    "dataset_gp1 = dataset_gp1.dropna()\n",
    "dataset_gp1 = dataset_gp1[dataset_gp1['Текст инцидента'] != '\\'Сообщение без текста']\n",
    "for msg in dataset_gp1['Текст инцидента']:\n",
    "    if len(msg.split(' ')) <= 2:    \n",
    "        dataset_gp1 = dataset_gp1[dataset_gp1['Текст инцидента'] != msg]\n",
    "        \n",
    "dataset_gp2 = dataset_gp2.drop_duplicates()\n",
    "dataset_gp2 = dataset_gp2.dropna()\n",
    "dataset_gp2 = dataset_gp2[dataset_gp2['Текст инцидента'] != '\\'Сообщение без текста']\n",
    "for msg in dataset_gp2['Текст инцидента']:\n",
    "    if len(msg.split(' ')) <= 2:    \n",
    "        dataset_gp2 = dataset_gp2[dataset_gp2['Текст инцидента'] != msg]\n",
    "\n",
    "dataset_gp3 = dataset_gp3.drop_duplicates()\n",
    "dataset_gp3 = dataset_gp3.dropna()\n",
    "dataset_gp3 = dataset_gp3[dataset_gp3['Текст инцидента'] != '\\'Сообщение без текста']\n",
    "for msg in dataset_gp3['Текст инцидента']:\n",
    "    if len(msg.split(' ')) <= 2:    \n",
    "        dataset_gp3 = dataset_gp3[dataset_gp3['Текст инцидента'] != msg]\n",
    "\n",
    "dataset_gp4 = dataset_gp4.drop_duplicates()\n",
    "dataset_gp4 = dataset_gp4.dropna()\n",
    "dataset_gp4 = dataset_gp4[dataset_gp4['Текст инцидента'] != '\\'Сообщение без текста']\n",
    "for msg in dataset_gp4['Текст инцидента']:\n",
    "    if len(msg.split(' ')) <= 2:    \n",
    "        dataset_gp4 = dataset_gp4[dataset_gp4['Текст инцидента'] != msg]\n",
    "        \n",
    "\n",
    "dataset = dataset._append(dataset_gp1)\n",
    "dataset = dataset._append(dataset_gp2)\n",
    "dataset = dataset._append(dataset_gp3)\n",
    "dataset = dataset._append(dataset_gp4)\n",
    "\n",
    "\n",
    "def get_group_code():\n",
    "    groups = dataset['Группа тем'].unique()\n",
    "    dict = {groups[i]:i for i in range(0, len(groups))}\n",
    "    return dict\n",
    "\n",
    "group_codes = get_group_code()\n",
    "\n",
    "def get_themes_code():\n",
    "    themes = dataset['Тема'].unique()\n",
    "    dict = {themes[i]:i for i in range(0, len(themes))}\n",
    "    return dict\n",
    "\n",
    "themes_codes = get_themes_code()\n",
    "\n",
    "x = dataset['Текст инцидента']\n",
    "y1 = dataset['Группа тем']\n",
    "y1 = np.array(y1.replace(group_codes))\n",
    "y2 = dataset['Тема']\n",
    "y2 = np.array(y2.replace(themes_codes))\n",
    "\n",
    "dataset.shape"
   ]
  },
  {
   "cell_type": "code",
   "execution_count": 72,
   "metadata": {},
   "outputs": [
    {
     "data": {
      "text/plain": [
       "'\\nimport torch\\nfrom transformers import AutoTokenizer, AutoModel\\n\\ntokenizer = AutoTokenizer.from_pretrained(\"cointegrated/LaBSE-en-ru\")\\nmodel = AutoModel.from_pretrained(\"cointegrated/LaBSE-en-ru\")\\n\\nlist = []\\n\\nfor s in x:\\n    s = preprocess_text(s)\\n    encoded_input = tokenizer(s, padding=True, truncation=True, max_length=256, return_tensors=\\'pt\\')\\n    with torch.no_grad():\\n        model_output = model(**encoded_input)\\n    emb = model_output.pooler_output\\n    list.append((emb)[0].numpy())\\n\\nx_embeddings = np.asarray(list)\\n\\n#сохранить embeddings\\nnp.save(f\\'embeddings_original\\', x_embeddings)\\n'"
      ]
     },
     "execution_count": 72,
     "metadata": {},
     "output_type": "execute_result"
    }
   ],
   "source": [
    "'''\n",
    "import torch\n",
    "from transformers import AutoTokenizer, AutoModel\n",
    "\n",
    "tokenizer = AutoTokenizer.from_pretrained(\"cointegrated/LaBSE-en-ru\")\n",
    "model = AutoModel.from_pretrained(\"cointegrated/LaBSE-en-ru\")\n",
    "\n",
    "list = []\n",
    "\n",
    "for s in x:\n",
    "    s = preprocess_text(s)\n",
    "    encoded_input = tokenizer(s, padding=True, truncation=True, max_length=256, return_tensors='pt')\n",
    "    with torch.no_grad():\n",
    "        model_output = model(**encoded_input)\n",
    "    emb = model_output.pooler_output\n",
    "    list.append((emb)[0].numpy())\n",
    "\n",
    "x_embeddings = np.asarray(list)\n",
    "\n",
    "#сохранить embeddings\n",
    "np.save(f'embeddings_original', x_embeddings)\n",
    "'''"
   ]
  },
  {
   "cell_type": "code",
   "execution_count": 73,
   "metadata": {},
   "outputs": [
    {
     "data": {
      "text/plain": [
       "(36179, 768)"
      ]
     },
     "execution_count": 73,
     "metadata": {},
     "output_type": "execute_result"
    }
   ],
   "source": [
    "#загрузить embeddings\n",
    "x_embeddings = np.load('embeddings_original.npy')\n",
    "x_embeddings_gpt = np.load('embeddings_gpt1.npy')\n",
    "x_embeddings_gpt2 = np.load('embeddings_gpt2.npy')\n",
    "x_embeddings_gpt3 = np.load('embeddings_gpt3.npy')\n",
    "\n",
    "x_embeddings = np.concatenate([x_embeddings, x_embeddings_gpt, x_embeddings_gpt2, x_embeddings_gpt3])\n",
    "x_embeddings.shape"
   ]
  },
  {
   "cell_type": "code",
   "execution_count": 74,
   "metadata": {},
   "outputs": [],
   "source": [
    "from sklearn.svm import SVC\n",
    "from sklearn.metrics import f1_score\n",
    "from sklearn.model_selection import train_test_split\n",
    "\n",
    "x_group_train, x_group_test, y_group_train, y_group_test = train_test_split(x_embeddings, y1, test_size=0.1, random_state=5)\n",
    "\n",
    "x_theme_train, x_theme_test, y_theme_train, y_theme_test = train_test_split(x_embeddings, y2, test_size=0.1, random_state=5)\n",
    "\n",
    "x_theme_train = np.hstack((x_theme_train, y_group_train.reshape(-1, 1)))\n",
    "x_theme_test = np.hstack((x_theme_test, y_group_test.reshape(-1, 1)))"
   ]
  },
  {
   "cell_type": "code",
   "execution_count": 75,
   "metadata": {},
   "outputs": [
    {
     "name": "stdout",
     "output_type": "stream",
     "text": [
      "F1_GROUP:  0.782\n"
     ]
    }
   ],
   "source": [
    "group_model = SVC(C = 3)\n",
    "group_model.fit(x_group_train, y_group_train)\n",
    "\n",
    "y_group_pred = group_model.predict(x_group_test)\n",
    "\n",
    "print('F1_GROUP: ', round(f1_score(y_group_test, y_group_pred, average='weighted'), 3))"
   ]
  },
  {
   "cell_type": "code",
   "execution_count": 76,
   "metadata": {},
   "outputs": [
    {
     "name": "stdout",
     "output_type": "stream",
     "text": [
      "F1_THEME:  0.695\n"
     ]
    }
   ],
   "source": [
    "theme_model = SVC(C = 4)\n",
    "theme_model.fit(x_theme_train, y_theme_train)\n",
    "\n",
    "y_theme_pred = theme_model.predict(x_theme_test)\n",
    "\n",
    "print('F1_THEME: ', round(f1_score(y_theme_test, y_theme_pred, average='weighted'), 3))"
   ]
  },
  {
   "cell_type": "markdown",
   "metadata": {},
   "source": [
    "### F1_GROUP:  0.741\n",
    "### F1_THEME:  0.565\n",
    "\n",
    "0.782\n",
    "0.695"
   ]
  }
 ],
 "metadata": {
  "kernelspec": {
   "display_name": "Python 3",
   "language": "python",
   "name": "python3"
  },
  "language_info": {
   "codemirror_mode": {
    "name": "ipython",
    "version": 3
   },
   "file_extension": ".py",
   "mimetype": "text/x-python",
   "name": "python",
   "nbconvert_exporter": "python",
   "pygments_lexer": "ipython3",
   "version": "3.11.5"
  }
 },
 "nbformat": 4,
 "nbformat_minor": 2
}
