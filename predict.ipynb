{
 "cells": [
  {
   "cell_type": "code",
   "execution_count": 1,
   "metadata": {},
   "outputs": [
    {
     "data": {
      "text/plain": [
       "0    'Может создать петицию по нашей проблеме)..<br...\n",
       "1    'Очень надеялась, что недоразумение с Декабрис...\n",
       "2    'Хоть бы отремонтировали поликлинику на Гайве....\n",
       "3    'Добрый день! Получаю выплаты с 3 до 7 лет, по...\n",
       "4    'Добрый день! Подскажите пожалуйста куда обращ...\n",
       "Name: Текст инцидента, dtype: object"
      ]
     },
     "execution_count": 1,
     "metadata": {},
     "output_type": "execute_result"
    }
   ],
   "source": [
    "import pandas as pd\n",
    "import numpy as np\n",
    "\n",
    "dataset = pd.read_csv('ml/datasets/test.csv', delimiter=';')\n",
    "dataset = dataset['Текст инцидента']\n",
    "dataset.head(5)"
   ]
  },
  {
   "cell_type": "code",
   "execution_count": 2,
   "metadata": {},
   "outputs": [
    {
     "name": "stderr",
     "output_type": "stream",
     "text": [
      "[nltk_data] Downloading package stopwords to\n",
      "[nltk_data]     C:\\Users\\skinn\\AppData\\Roaming\\nltk_data...\n",
      "[nltk_data]   Package stopwords is already up-to-date!\n"
     ]
    },
    {
     "ename": "FileNotFoundError",
     "evalue": "[Errno 2] No such file or directory: 'embeddings/embeddings_test.npy'",
     "output_type": "error",
     "traceback": [
      "\u001b[1;31m---------------------------------------------------------------------------\u001b[0m",
      "\u001b[1;31mFileNotFoundError\u001b[0m                         Traceback (most recent call last)",
      "\u001b[1;32mc:\\VsCodeProjects\\hackaton-nlu-model\\predict.ipynb Cell 2\u001b[0m line \u001b[0;36m3\n\u001b[0;32m      <a href='vscode-notebook-cell:/c%3A/VsCodeProjects/hackaton-nlu-model/predict.ipynb#W1sZmlsZQ%3D%3D?line=0'>1</a>\u001b[0m model_group \u001b[39m=\u001b[39m GModel()\n\u001b[0;32m      <a href='vscode-notebook-cell:/c%3A/VsCodeProjects/hackaton-nlu-model/predict.ipynb#W1sZmlsZQ%3D%3D?line=1'>2</a>\u001b[0m \u001b[39m#for ml/datasets/test.csv\u001b[39;00m\n\u001b[1;32m----> <a href='vscode-notebook-cell:/c%3A/VsCodeProjects/hackaton-nlu-model/predict.ipynb#W1sZmlsZQ%3D%3D?line=2'>3</a>\u001b[0m emb \u001b[39m=\u001b[39m model_group\u001b[39m.\u001b[39;49mtest_embeddings()\n\u001b[0;32m      <a href='vscode-notebook-cell:/c%3A/VsCodeProjects/hackaton-nlu-model/predict.ipynb#W1sZmlsZQ%3D%3D?line=3'>4</a>\u001b[0m \u001b[39m#for you dataset\u001b[39;00m\n\u001b[0;32m      <a href='vscode-notebook-cell:/c%3A/VsCodeProjects/hackaton-nlu-model/predict.ipynb#W1sZmlsZQ%3D%3D?line=4'>5</a>\u001b[0m \u001b[39m#emb = model_group.get_normalize_text(dataset)\u001b[39;00m\n\u001b[0;32m      <a href='vscode-notebook-cell:/c%3A/VsCodeProjects/hackaton-nlu-model/predict.ipynb#W1sZmlsZQ%3D%3D?line=5'>6</a>\u001b[0m group_pred \u001b[39m=\u001b[39m model_group\u001b[39m.\u001b[39mpredict(emb)\n",
      "File \u001b[1;32mc:\\VsCodeProjects\\hackaton-nlu-model\\ml\\Models.py:53\u001b[0m, in \u001b[0;36mGModel.test_embeddings\u001b[1;34m(self)\u001b[0m\n\u001b[0;32m     52\u001b[0m \u001b[39mdef\u001b[39;00m \u001b[39mtest_embeddings\u001b[39m(\u001b[39mself\u001b[39m):\n\u001b[1;32m---> 53\u001b[0m     \u001b[39mreturn\u001b[39;00m np\u001b[39m.\u001b[39;49mload(\u001b[39m'\u001b[39;49m\u001b[39membeddings/embeddings_test.npy\u001b[39;49m\u001b[39m'\u001b[39;49m)\n",
      "File \u001b[1;32mc:\\Users\\skinn\\AppData\\Local\\Programs\\Python\\Python311\\Lib\\site-packages\\numpy\\lib\\npyio.py:427\u001b[0m, in \u001b[0;36mload\u001b[1;34m(file, mmap_mode, allow_pickle, fix_imports, encoding, max_header_size)\u001b[0m\n\u001b[0;32m    425\u001b[0m     own_fid \u001b[39m=\u001b[39m \u001b[39mFalse\u001b[39;00m\n\u001b[0;32m    426\u001b[0m \u001b[39melse\u001b[39;00m:\n\u001b[1;32m--> 427\u001b[0m     fid \u001b[39m=\u001b[39m stack\u001b[39m.\u001b[39menter_context(\u001b[39mopen\u001b[39;49m(os_fspath(file), \u001b[39m\"\u001b[39;49m\u001b[39mrb\u001b[39;49m\u001b[39m\"\u001b[39;49m))\n\u001b[0;32m    428\u001b[0m     own_fid \u001b[39m=\u001b[39m \u001b[39mTrue\u001b[39;00m\n\u001b[0;32m    430\u001b[0m \u001b[39m# Code to distinguish from NumPy binary files and pickles.\u001b[39;00m\n",
      "\u001b[1;31mFileNotFoundError\u001b[0m: [Errno 2] No such file or directory: 'embeddings/embeddings_test.npy'"
     ]
    }
   ],
   "source": [
    "from ml.Models import GModel, TModel, code_to_groups, code_to_themes\n",
    "\n",
    "model_group = GModel()\n",
    "#for ml/datasets/test.csv\n",
    "emb = model_group.test_embeddings()\n",
    "#for you dataset\n",
    "#emb = model_group.get_normalize_text(dataset)\n",
    "group_pred = model_group.predict(emb)"
   ]
  },
  {
   "cell_type": "code",
   "execution_count": null,
   "metadata": {},
   "outputs": [
    {
     "name": "stderr",
     "output_type": "stream",
     "text": [
      "[nltk_data] Downloading package stopwords to\n",
      "[nltk_data]     C:\\Users\\skinn\\AppData\\Roaming\\nltk_data...\n",
      "[nltk_data]   Package stopwords is already up-to-date!\n"
     ]
    }
   ],
   "source": [
    "model_theme = TModel()\n",
    "theme_emb = np.hstack((emb, group_pred.reshape(-1, 1)))\n",
    "\n",
    "theme_pred = model_theme.predict(theme_emb)"
   ]
  },
  {
   "cell_type": "code",
   "execution_count": null,
   "metadata": {},
   "outputs": [],
   "source": [
    "\n",
    "group_text = [code_to_groups(i) for i in group_pred]\n",
    "theme_text = [code_to_themes(i) for i in theme_pred]\n",
    "\n",
    "id_col = [i for i in range(len(group_text))]\n",
    "df = pd.DataFrame({'id': id_col, 'Группа тем': group_text, 'Тема': theme_text})\n",
    "df.to_csv('output.csv', sep=';',index=False, encoding='utf-8')"
   ]
  },
  {
   "cell_type": "code",
   "execution_count": 2,
   "metadata": {},
   "outputs": [
    {
     "name": "stdout",
     "output_type": "stream",
     "text": [
      "'Врачи «скорой» (г.Губаха) вытаскивали машину из снега, чтобы выехать на вызов<br>Парковка превратилась в кашу: судя по кадрам, карету спасали всей бригадой, помогали даже девушки-фельдшера. «Скорая» спешила на вызов к женщине, которой стало плохо с сердцем.<br>https://vk.com/video-25280329_456255989<br>Пермские врачи «скорой» вытаскивали машину из снега, чтобы выехать на вызов\n",
      "[[], ['город Губаха']]\n"
     ]
    }
   ],
   "source": [
    "#test NER module\n",
    "from ml.NER import NER\n",
    "\n",
    "ner = NER()\n",
    "index = 5\n",
    "print(dataset.iloc[index])\n",
    "print(ner.get_ner(dataset.iloc[index]))"
   ]
  }
 ],
 "metadata": {
  "kernelspec": {
   "display_name": "Python 3",
   "language": "python",
   "name": "python3"
  },
  "language_info": {
   "codemirror_mode": {
    "name": "ipython",
    "version": 3
   },
   "file_extension": ".py",
   "mimetype": "text/x-python",
   "name": "python",
   "nbconvert_exporter": "python",
   "pygments_lexer": "ipython3",
   "version": "3.11.5"
  }
 },
 "nbformat": 4,
 "nbformat_minor": 2
}
