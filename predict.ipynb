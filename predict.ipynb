{
 "cells": [
  {
   "cell_type": "code",
   "execution_count": 3,
   "metadata": {},
   "outputs": [
    {
     "data": {
      "text/plain": [
       "0    'Может создать петицию по нашей проблеме)..<br...\n",
       "1    'Очень надеялась, что недоразумение с Декабрис...\n",
       "2    'Хоть бы отремонтировали поликлинику на Гайве....\n",
       "3    'Добрый день! Получаю выплаты с 3 до 7 лет, по...\n",
       "4    'Добрый день! Подскажите пожалуйста куда обращ...\n",
       "Name: Текст инцидента, dtype: object"
      ]
     },
     "execution_count": 3,
     "metadata": {},
     "output_type": "execute_result"
    }
   ],
   "source": [
    "import pandas as pd\n",
    "import numpy as np\n",
    "\n",
    "dataset = pd.read_csv('ml/datasets/test.csv', delimiter=';')\n",
    "dataset = dataset['Текст инцидента']\n",
    "dataset.head(5)"
   ]
  },
  {
   "cell_type": "code",
   "execution_count": 4,
   "metadata": {},
   "outputs": [
    {
     "name": "stderr",
     "output_type": "stream",
     "text": [
      "c:\\Users\\skinn\\AppData\\Local\\Programs\\Python\\Python311\\Lib\\site-packages\\tqdm\\auto.py:21: TqdmWarning: IProgress not found. Please update jupyter and ipywidgets. See https://ipywidgets.readthedocs.io/en/stable/user_install.html\n",
      "  from .autonotebook import tqdm as notebook_tqdm\n",
      "[nltk_data] Downloading package stopwords to\n",
      "[nltk_data]     C:\\Users\\skinn\\AppData\\Roaming\\nltk_data...\n",
      "[nltk_data]   Package stopwords is already up-to-date!\n"
     ]
    }
   ],
   "source": [
    "from ml.Models import GModel, TModel, code_to_groups, code_to_themes\n",
    "\n",
    "model_group = GModel()\n",
    "#for ml/datasets/test.csv\n",
    "emb = model_group.test_embeddings()\n",
    "#for you dataset\n",
    "#emb = model_group.get_normalize_text(dataset)\n",
    "group_pred = model_group.predict(emb)"
   ]
  },
  {
   "cell_type": "code",
   "execution_count": 5,
   "metadata": {},
   "outputs": [
    {
     "name": "stderr",
     "output_type": "stream",
     "text": [
      "[nltk_data] Downloading package stopwords to\n",
      "[nltk_data]     C:\\Users\\skinn\\AppData\\Roaming\\nltk_data...\n",
      "[nltk_data]   Package stopwords is already up-to-date!\n"
     ]
    }
   ],
   "source": [
    "model_theme = TModel()\n",
    "theme_emb = np.hstack((emb, group_pred.reshape(-1, 1)))\n",
    "\n",
    "theme_pred = model_theme.predict(theme_emb)"
   ]
  },
  {
   "cell_type": "code",
   "execution_count": 6,
   "metadata": {},
   "outputs": [],
   "source": [
    "\n",
    "group_text = [code_to_groups(i) for i in group_pred]\n",
    "theme_text = [code_to_themes(i) for i in theme_pred]\n",
    "\n",
    "id_col = [i for i in range(len(group_text))]\n",
    "df = pd.DataFrame({'id': id_col, 'Группа тем': group_text, 'Тема': theme_text})\n",
    "df.to_csv('output.csv', sep=';',index=False, encoding='utf-8')"
   ]
  },
  {
   "cell_type": "code",
   "execution_count": 7,
   "metadata": {},
   "outputs": [
    {
     "name": "stdout",
     "output_type": "stream",
     "text": [
      "'Врачи «скорой» (г.Губаха) вытаскивали машину из снега, чтобы выехать на вызов<br>Парковка превратилась в кашу: судя по кадрам, карету спасали всей бригадой, помогали даже девушки-фельдшера. «Скорая» спешила на вызов к женщине, которой стало плохо с сердцем.<br>https://vk.com/video-25280329_456255989<br>Пермские врачи «скорой» вытаскивали машину из снега, чтобы выехать на вызов\n",
      "[[], ['город Губаха']]\n"
     ]
    }
   ],
   "source": [
    "#test NER module\n",
    "from ml.NER import NER\n",
    "\n",
    "ner = NER()\n",
    "index = 5\n",
    "print(dataset.iloc[index])\n",
    "print(ner.get_ner(dataset.iloc[index]))"
   ]
  }
 ],
 "metadata": {
  "kernelspec": {
   "display_name": "Python 3",
   "language": "python",
   "name": "python3"
  },
  "language_info": {
   "codemirror_mode": {
    "name": "ipython",
    "version": 3
   },
   "file_extension": ".py",
   "mimetype": "text/x-python",
   "name": "python",
   "nbconvert_exporter": "python",
   "pygments_lexer": "ipython3",
   "version": "3.11.5"
  }
 },
 "nbformat": 4,
 "nbformat_minor": 2
}
