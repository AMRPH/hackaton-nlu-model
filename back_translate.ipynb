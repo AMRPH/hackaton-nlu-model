{
 "cells": [
  {
   "cell_type": "code",
   "execution_count": null,
   "id": "f875b6ab",
   "metadata": {},
   "outputs": [],
   "source": [
    "from transformers import pipeline\n",
    "MODEL_NAME = 'facebook/nllb-200-3.3B'\n",
    "ru_en_translator = pipeline('translation_ru_to_en', model=MODEL_NAME)\n",
    "\n",
    "print(ru_en_translator('У меня нет собаки'))"
   ]
  }
 ],
 "metadata": {
  "kernelspec": {
   "display_name": "Python 3 (ipykernel)",
   "language": "python",
   "name": "python3"
  },
  "language_info": {
   "codemirror_mode": {
    "name": "ipython",
    "version": 3
   },
   "file_extension": ".py",
   "mimetype": "text/x-python",
   "name": "python",
   "nbconvert_exporter": "python",
   "pygments_lexer": "ipython3",
   "version": "3.10.12"
  }
 },
 "nbformat": 4,
 "nbformat_minor": 5
}
