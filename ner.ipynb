{
 "cells": [
  {
   "cell_type": "code",
   "execution_count": 166,
   "metadata": {},
   "outputs": [],
   "source": [
    "from natasha import (\n",
    "    Segmenter,\n",
    "    MorphVocab,\n",
    "    \n",
    "    NewsEmbedding,\n",
    "    NewsMorphTagger,\n",
    "    NewsSyntaxParser,\n",
    "    NewsNERTagger,\n",
    "    \n",
    "    PER,\n",
    "    NamesExtractor,\n",
    "    AddrExtractor,\n",
    "\n",
    "    Doc\n",
    ")\n",
    "segmenter = Segmenter()\n",
    "morph_vocab = MorphVocab()\n",
    "\n",
    "emb = NewsEmbedding()\n",
    "morph_tagger = NewsMorphTagger(emb)\n",
    "syntax_parser = NewsSyntaxParser(emb)\n",
    "ner_tagger = NewsNERTagger(emb)\n",
    "\n",
    "names_extractor = NamesExtractor(morph_vocab)\n",
    "addr_extractor = AddrExtractor(morph_vocab)"
   ]
  },
  {
   "cell_type": "code",
   "execution_count": 167,
   "metadata": {},
   "outputs": [],
   "source": [
    "def get_ner(incident):\n",
    "    doc = Doc(incident)\n",
    "    doc.segment(segmenter)\n",
    "    doc.tag_morph(morph_tagger)\n",
    "    for token in doc.tokens:\n",
    "        token.lemmatize(morph_vocab)\n",
    "    doc.parse_syntax(syntax_parser)\n",
    "\n",
    "    doc.tag_ner(ner_tagger)\n",
    "\n",
    "    for span in doc.spans:\n",
    "        span.normalize(morph_vocab)\n",
    "    \n",
    "    for span in doc.spans:\n",
    "        if span.type == PER:\n",
    "            span.extract_fact(names_extractor)\n",
    "\n",
    "    persons = []\n",
    "\n",
    "    for person in doc.spans:\n",
    "        if person.type == PER:\n",
    "            person_dict = person.fact.as_dict\n",
    "            if list(person_dict.keys()) == ['first']:\n",
    "                persons.append(person_dict['first'])\n",
    "            if list(person_dict.keys()) == ['first', 'last']:\n",
    "                persons.append(person_dict['first'] + ' ' + person_dict['last'])\n",
    "            if list(person_dict.keys()) == ['first', 'last', 'middle']:\n",
    "                persons.append(person_dict['first'] + ' ' + person_dict['middle'] + ' ' +person_dict['last'])\n",
    "    \n",
    "    addrs = []\n",
    "    \n",
    "    if addr_extractor.find(incident) != None:\n",
    "        for addr in addr_extractor.find(incident).fact.parts:\n",
    "            addrs.append(addr.type + ' ' + addr.value)\n",
    "    \n",
    "    print([persons, addrs])"
   ]
  }
 ],
 "metadata": {
  "kernelspec": {
   "display_name": "Python 3",
   "language": "python",
   "name": "python3"
  },
  "language_info": {
   "codemirror_mode": {
    "name": "ipython",
    "version": 3
   },
   "file_extension": ".py",
   "mimetype": "text/x-python",
   "name": "python",
   "nbconvert_exporter": "python",
   "pygments_lexer": "ipython3",
   "version": "3.11.6"
  }
 },
 "nbformat": 4,
 "nbformat_minor": 2
}
